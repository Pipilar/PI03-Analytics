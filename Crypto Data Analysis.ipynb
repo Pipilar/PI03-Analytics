{
 "cells": [
  {
   "cell_type": "markdown",
   "metadata": {},
   "source": [
    "**BIENVENIDOS A CRYPTO DATA ANALYSIS**"
   ]
  },
  {
   "cell_type": "markdown",
   "metadata": {},
   "source": [
    "Este análisis se divide en dos partes, la parte de visualización que explica el funcionamiento del DashBoard, y la parte técnica que explica la creación y confeccionamiento del DashBoard"
   ]
  },
  {
   "cell_type": "markdown",
   "metadata": {},
   "source": [
    "**VISUALIZACIÓN**"
   ]
  },
  {
   "cell_type": "markdown",
   "metadata": {},
   "source": [
    "*A modo de introducción, este es un proyecto de Data Analytics a través del cual se estudió el funcionamiento de 10 criptomonedas, y su comportamiento en el mercado. Se podrá observar en un DashBoard de Power BI algunas métricas y variables que serán de utilidad para el presente análisis. Tengamos en cuenta que todos los valores mostrados, son en dólares.\n",
    "Vamos a empezar!!*"
   ]
  },
  {
   "cell_type": "markdown",
   "metadata": {},
   "source": [
    "En este archivo, se explica el funcionamiento del DashBoard y sus variables, para que no estés tan perdido/a ;)"
   ]
  },
  {
   "cell_type": "markdown",
   "metadata": {},
   "source": [
    "*Las 10 CriptoMonedas estudiadas son:*\n",
    "**BitCoin (BTC),\n",
    "Binance (BNB),\n",
    "Chiliz (CHZ),\n",
    "Ethereum (ETH),\n",
    "FTX Crypto (FTT),\n",
    "ChainLink (LINK),\n",
    "Polygon (MATIC),\n",
    "Solana (SOL),\n",
    "Tether (USDT),\n",
    "Ripple (XRP)**"
   ]
  },
  {
   "cell_type": "markdown",
   "metadata": {},
   "source": [
    "**Gráfico Valor a Través del tiempo**"
   ]
  },
  {
   "cell_type": "markdown",
   "metadata": {},
   "source": [
    "Para comenzar, lo primero que vemos en el DashBoard es un gráfico con el título 'Valor a través del tiempo'"
   ]
  },
  {
   "cell_type": "markdown",
   "metadata": {},
   "source": [
    "*En este gráfico, se puede observar la variación de la criptomoneda a través del tiempo. A la derecha de este gráfico, existen dos filtros: Uno para elegir la criptomoneda que queremos ver, y otro para elegir qué rango de fechas queremos visualizar. \n",
    "Ahí debemos seleccionar por ejemplo, BTC y Febrero de 2021, y podremos observar en el gráfico la variación histórica de la criptomoneda BitCoin durante Febrero de 2021*"
   ]
  },
  {
   "cell_type": "markdown",
   "metadata": {},
   "source": [
    "**Volumen de Transacción**"
   ]
  },
  {
   "cell_type": "markdown",
   "metadata": {},
   "source": [
    "Al seleccionar esos filtros, podemos ver en las tarjetas de arriba el Volumen de transacción, que corresponde a la **cantidad de esa moneda** elegida, en este caso BitCoin, **que fue transaccionado** en ese rango de fechas, en este caso Febrero de 2021\n"
   ]
  },
  {
   "cell_type": "markdown",
   "metadata": {},
   "source": [
    "**Media Móvil**"
   ]
  },
  {
   "cell_type": "markdown",
   "metadata": {},
   "source": [
    "A la derecha de Volumen de Transacción, tenemos otra tarjeta llamada Media Móvil. Esta tarjeta nos muestra el **promedio** del valor de esa cripto en ese rango de fechas, es decir, siguiendo con nuestro ejemplo, el valor promedio de BitCoin durante el mes de Febrero de 2021."
   ]
  },
  {
   "cell_type": "markdown",
   "metadata": {},
   "source": [
    "**Varianza**"
   ]
  },
  {
   "cell_type": "markdown",
   "metadata": {},
   "source": [
    "Se ve también en la esquina superior derecha del DashBoard, una tarjeta que nos muestra también la varianza de esa cripto en ese rango."
   ]
  },
  {
   "cell_type": "markdown",
   "metadata": {},
   "source": [
    "**Valor Histórico**"
   ]
  },
  {
   "cell_type": "markdown",
   "metadata": {},
   "source": [
    "Ahora pasamos al valor histórico de la cripto, este dato se puede acceder desde los filtros: \n",
    "Se debe seleccionar el tipo de moneda que se quiere visualizar, y en la fecha se debe ingresar a los meses y elegir un día específico. Esto arrojará el valor histórico en ese día especificado.\n",
    "De otra manera, esta tarjeta mostrará la suma del valor de cierre de la criptomoneda en el rango de fechas especificado."
   ]
  },
  {
   "cell_type": "markdown",
   "metadata": {},
   "source": [
    "------------------------------------"
   ]
  },
  {
   "cell_type": "markdown",
   "metadata": {},
   "source": [
    "**TÉCNICA**"
   ]
  },
  {
   "cell_type": "markdown",
   "metadata": {},
   "source": [
    "Para la creación de este DashBoard, se conectó un tablero de PowerBI con la página de FTX: https://ftx.com/es"
   ]
  },
  {
   "cell_type": "markdown",
   "metadata": {},
   "source": [
    "Para ello, se cargó la data a través de Get Data, seleccionando la opción de Web, y colocando la siguiente URL:\n",
    "http://ftx.com/api/markets/<cripto_name>/USD/candles?resolution=86400&start_time=1546383600"
   ]
  },
  {
   "cell_type": "markdown",
   "metadata": {},
   "source": [
    "Con esta URL, se accede a la API de Markets, en donde obtenemos la siguiente información, según lectura de la documentación de la API (https://docs.ftx.com/#get-markets):"
   ]
  },
  {
   "cell_type": "markdown",
   "metadata": {},
   "source": [
    "StartTime: Que es el comienzo en tiempo de la ventana"
   ]
  },
  {
   "cell_type": "markdown",
   "metadata": {},
   "source": [
    "Open: Valor de apertura de esa ventana"
   ]
  },
  {
   "cell_type": "markdown",
   "metadata": {},
   "source": [
    "Close: Valor de cierre de esa ventana"
   ]
  },
  {
   "cell_type": "markdown",
   "metadata": {},
   "source": [
    "High: Máximo valor alcanzado durante la ventana"
   ]
  },
  {
   "cell_type": "markdown",
   "metadata": {},
   "source": [
    "Low: Mínimo valor alcanzado durante la ventana"
   ]
  },
  {
   "cell_type": "markdown",
   "metadata": {},
   "source": [
    "Volume: Volumen transaccionado durante la ventana"
   ]
  },
  {
   "cell_type": "markdown",
   "metadata": {},
   "source": [
    "Lo que hice fue levantar esta información para cada una de las criptomonedas que elegí."
   ]
  },
  {
   "cell_type": "markdown",
   "metadata": {},
   "source": [
    "Para trabajarlo en PowerBI, creé una columna extra por cada una de las tablas, que conteniera el nombre de la Cripto correspondiente a esa información, con el fin de posteriormente juntar todo en una sola tabla a través de la función DAX 'UNION', para así tener toda la información en una sola tabla y además poder filtrar por las distintas criptomonedas"
   ]
  }
 ],
 "metadata": {
  "kernelspec": {
   "display_name": "Python 3.10.7 64-bit",
   "language": "python",
   "name": "python3"
  },
  "language_info": {
   "codemirror_mode": {
    "name": "ipython",
    "version": 3
   },
   "file_extension": ".py",
   "mimetype": "text/x-python",
   "name": "python",
   "nbconvert_exporter": "python",
   "pygments_lexer": "ipython3",
   "version": "3.10.7"
  },
  "orig_nbformat": 4,
  "vscode": {
   "interpreter": {
    "hash": "dc9e7ae3d231be18ba4769400e321b7e9f8bb9914b8528506cb2793b04756062"
   }
  }
 },
 "nbformat": 4,
 "nbformat_minor": 2
}
